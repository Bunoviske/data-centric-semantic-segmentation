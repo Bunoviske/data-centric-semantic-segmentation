{
 "cells": [
  {
   "cell_type": "code",
   "execution_count": 1,
   "metadata": {
    "colab": {
     "base_uri": "https://localhost:8080/"
    },
    "executionInfo": {
     "elapsed": 11,
     "status": "ok",
     "timestamp": 1626987094106,
     "user": {
      "displayName": "Bruno Fernandes",
      "photoUrl": "https://lh3.googleusercontent.com/a-/AOh14GjVL2cIpZl3_N3xBGT1_XDzNJXAY7UhJwL3-cZvrQ=s64",
      "userId": "05326773416426862414"
     },
     "user_tz": 180
    },
    "id": "8V86uczBo9f7",
    "outputId": "baa633d1-cd31-44b2-976a-1e64537b4b61",
    "tags": []
   },
   "outputs": [
    {
     "name": "stdout",
     "output_type": "stream",
     "text": [
      "Python: 3.8.16 (default, Jan 17 2023, 23:13:24) \n",
      "[GCC 11.2.0]\n",
      "Pytorch: 1.10.2+cu102\n",
      "Fastai: 2.5.3\n"
     ]
    }
   ],
   "source": [
    "import sys; print('Python:',sys.version)\n",
    "import torch; print('Pytorch:',torch.__version__)\n",
    "import fastai; print('Fastai:',fastai.__version__)"
   ]
  },
  {
   "cell_type": "code",
   "execution_count": 2,
   "metadata": {
    "colab": {
     "base_uri": "https://localhost:8080/",
     "height": 71
    },
    "executionInfo": {
     "elapsed": 15853,
     "status": "ok",
     "timestamp": 1626987109955,
     "user": {
      "displayName": "Bruno Fernandes",
      "photoUrl": "https://lh3.googleusercontent.com/a-/AOh14GjVL2cIpZl3_N3xBGT1_XDzNJXAY7UhJwL3-cZvrQ=s64",
      "userId": "05326773416426862414"
     },
     "user_tz": 180
    },
    "id": "DJzkT3F_yIPO",
    "outputId": "7bf5a760-9b22-41d5-925f-f54c756d3593",
    "tags": []
   },
   "outputs": [],
   "source": [
    "%reload_ext autoreload\n",
    "%autoreload 2\n",
    "%matplotlib inline\n",
    "from fastai.basics import *\n",
    "from fastai.callback.all import *\n",
    "from fastai.vision.all import *\n",
    "import torch\n",
    "import torchvision\n",
    "from PIL import Image\n",
    "from pycocotools.coco import COCO\n",
    "import cv2\n",
    "import tqdm"
   ]
  },
  {
   "cell_type": "markdown",
   "metadata": {
    "id": "XASitPpbzp5O"
   },
   "source": [
    "## Load your data"
   ]
  },
  {
   "cell_type": "code",
   "execution_count": 23,
   "metadata": {
    "id": "zq5N5Elzzr5X",
    "tags": []
   },
   "outputs": [
    {
     "name": "stdout",
     "output_type": "stream",
     "text": [
      "loading annotations into memory...\n",
      "Done (t=0.82s)\n",
      "creating index...\n",
      "index created!\n"
     ]
    },
    {
     "data": {
      "text/plain": [
       "897"
      ]
     },
     "execution_count": 23,
     "metadata": {},
     "output_type": "execute_result"
    }
   ],
   "source": [
    "# coco_dataset_folder = '/mnt/c/Users/bruno/Documents/diabetesLearning/foodDatabase/Dataset-BRUMAS/dataset_BRUMAS_v1/'\n",
    "# coco_dataset_folder = \"/mnt/c/Users/bruno/Documents/diabetesLearning/foodDatabase/MyFood/\"\n",
    "coco_dataset_folder = \"/mnt/c/Users/bruno/Documents/diabetesLearning/foodDatabase/UNIMIB16/\"\n",
    "# coco_dataset_folder = \"/mnt/c/Users/bruno/Documents/diabetesLearning/foodDatabase/food201/\"\n",
    "\n",
    "coco = COCO(coco_dataset_folder + \"CocoData_preprocessed_final.json\")\n",
    "\n",
    "imgIds = list(sorted(coco.imgs.keys()))\n",
    "len(imgIds)"
   ]
  },
  {
   "cell_type": "code",
   "execution_count": 24,
   "metadata": {
    "colab": {
     "base_uri": "https://localhost:8080/"
    },
    "executionInfo": {
     "elapsed": 7232,
     "status": "ok",
     "timestamp": 1626988726148,
     "user": {
      "displayName": "Bruno Fernandes",
      "photoUrl": "https://lh3.googleusercontent.com/a-/AOh14GjVL2cIpZl3_N3xBGT1_XDzNJXAY7UhJwL3-cZvrQ=s64",
      "userId": "05326773416426862414"
     },
     "user_tz": 180
    },
    "id": "aFy5F4cTz7vP",
    "outputId": "8e3bca61-8996-4a63-a01f-e056a1813329",
    "tags": []
   },
   "outputs": [
    {
     "data": {
      "text/plain": [
       "33"
      ]
     },
     "execution_count": 24,
     "metadata": {},
     "output_type": "execute_result"
    }
   ],
   "source": [
    "cats = coco.loadCats(coco.getCatIds())\n",
    "categories = [cat['name'] for cat in cats]\n",
    "categoriesId = [cat['id'] for cat in cats]\n",
    "\n",
    "len(categories)"
   ]
  },
  {
   "cell_type": "code",
   "execution_count": 25,
   "metadata": {
    "colab": {
     "base_uri": "https://localhost:8080/",
     "height": 89
    },
    "executionInfo": {
     "elapsed": 9,
     "status": "ok",
     "timestamp": 1626988727213,
     "user": {
      "displayName": "Bruno Fernandes",
      "photoUrl": "https://lh3.googleusercontent.com/a-/AOh14GjVL2cIpZl3_N3xBGT1_XDzNJXAY7UhJwL3-cZvrQ=s64",
      "userId": "05326773416426862414"
     },
     "user_tz": 180
    },
    "id": "q2eSbsS33TAK",
    "outputId": "1e865351-5387-4689-f739-dba9baea5c1b",
    "tags": []
   },
   "outputs": [
    {
     "name": "stderr",
     "output_type": "stream",
     "text": [
      "/tmp/ipykernel_4144/4290073017.py:24: UserWarning: Matplotlib is currently using module://matplotlib_inline.backend_inline, which is a non-GUI backend, so cannot show the figure.\n",
      "  fig.show()\n"
     ]
    },
    {
     "data": {
      "image/png": "[encoded data removed]",
      "text/plain": [
       "<Figure size 600x100 with 1 Axes>"
      ]
     },
     "metadata": {},
     "output_type": "display_data"
    }
   ],
   "source": [
    "# define colormap for masks\n",
    "\n",
    "fig, ax = plt.subplots(figsize=(6, 1))\n",
    "fig.subplots_adjust(bottom=0.5)\n",
    "\n",
    "cmap = matplotlib.colors.ListedColormap([np.random.rand(3,) for i in range(0,len(categories))])\n",
    "cmaplist = [cmap(i) for i in range(cmap.N)]\n",
    "cmaplist[0] = (.75, .75, .75, 1.0) \n",
    "cmaplist[1] = \"red\" \n",
    "cmaplist[2] = \"yellow\" \n",
    "cmaplist[3] = \"blue\" \n",
    "cmaplist[4] = \"green\" \n",
    "\n",
    "cmap = matplotlib.colors.LinearSegmentedColormap.from_list(\n",
    "    'Custom cmap', cmaplist, cmap.N)\n",
    "bounds = [i-0.5 for i in range(0,len(categories)+1)] # intervals must contain integer values, so the bounds should increase every 0.5\n",
    "norm = matplotlib.colors.BoundaryNorm(bounds, cmap.N)\n",
    "\n",
    "cb2 = matplotlib.colorbar.ColorbarBase(ax, cmap=cmap,\n",
    "                                norm=norm,\n",
    "                                spacing='proportional',\n",
    "                                orientation='horizontal')\n",
    "cb2.set_label('Discrete intervals')\n",
    "fig.show()"
   ]
  },
  {
   "cell_type": "markdown",
   "metadata": {},
   "source": [
    "## Check for noisy data"
   ]
  },
  {
   "cell_type": "code",
   "execution_count": 26,
   "metadata": {
    "tags": []
   },
   "outputs": [],
   "source": [
    "# check if ground truth is noisy (optional)\n",
    "\n",
    "import cv2\n",
    "import numpy as np\n",
    "\n",
    "def isNoisyAnnotation(masks):\n",
    "\n",
    "    #### check if masks have high iou between each other\n",
    "    intersectionThreshold = 0.3\n",
    "    for mask1 in masks: \n",
    "        for mask2 in masks: # compare every mask with each other \n",
    "            if not np.array_equal(mask1,mask2): \n",
    "                intersectionPixels = np.sum(np.logical_and(mask1, mask2))\n",
    "                smallestMask = min(np.sum(mask1),np.sum(mask2))\n",
    "                percentualIntersection = intersectionPixels / smallestMask\n",
    "                # print(percentualIntersection)\n",
    "                if percentualIntersection > intersectionThreshold:\n",
    "                    print(\"Masks with high intersection\")\n",
    "                    return True\n",
    "\n",
    "    #### check if exists multiple contours in one mask and if these regions are too small\n",
    "    areaThreshold = 0.01\n",
    "    maxContours = 1\n",
    "\n",
    "    for mask in masks:    \n",
    "        mask = mask * 255 # transform binary mask from (0,1) format to (0,255)\n",
    "\n",
    "        # fig = plt.figure(figsize=(9,9))\n",
    "        # ax1 = fig.add_subplot(1,2,1)\n",
    "        # ax1.imshow(mask)\n",
    "        # plt.show()\n",
    "\n",
    "        contours, hierarchy = cv2.findContours(mask, cv2.RETR_EXTERNAL, cv2.CHAIN_APPROX_NONE)\n",
    "        numContours = len(contours)\n",
    "\n",
    "        for contour in contours:\n",
    "            area = cv2.contourArea(contour)\n",
    "            if area == 0.0:\n",
    "                print(\"Found zero area\")\n",
    "                numContours -= 1\n",
    "                continue\n",
    "\n",
    "            totalPixels = mask.shape[0] * mask.shape[1]\n",
    "            # print(area/totalPixels)\n",
    "            if area/totalPixels < areaThreshold:\n",
    "                # print(\"Very Small contour\")\n",
    "                return True\n",
    "\n",
    "        # print(numContours)\n",
    "        if numContours == 0:\n",
    "            print(\"No contours\")\n",
    "            return True    \n",
    "\n",
    "        if numContours > maxContours:\n",
    "            # print(\"Multiple contours\")\n",
    "            return True\n",
    "\n",
    "    return False"
   ]
  },
  {
   "cell_type": "markdown",
   "metadata": {},
   "source": [
    "## Data visualization functions"
   ]
  },
  {
   "cell_type": "code",
   "execution_count": 27,
   "metadata": {
    "tags": []
   },
   "outputs": [],
   "source": [
    "# generate data visualization \n",
    "\n",
    "import functools\n",
    "\n",
    "def getThickEdge(mask, rgbValues):\n",
    "    edge = cv2.Canny(mask*255, 30, 150)\n",
    "\n",
    "    kernel = np.ones((5,5), np.uint8)\n",
    "    edge_dilated = cv2.dilate(edge, kernel, iterations=1)\n",
    "\n",
    "    r = np.zeros_like(mask).astype(np.uint8)\n",
    "    g = np.zeros_like(mask).astype(np.uint8)\n",
    "    b = np.zeros_like(mask).astype(np.uint8)\n",
    "    r[edge_dilated == 255], g[edge_dilated == 255], b[edge_dilated == 255] = rgbValues\n",
    "    coloured_edge = np.stack([r, g, b], axis=2)\n",
    "\n",
    "    # fig = plt.figure(figsize=(9,9))\n",
    "    # ax1 = fig.add_subplot(1,2,1)\n",
    "    # ax1.imshow(coloured_edge)\n",
    "    # plt.show()\n",
    "\n",
    "    return coloured_edge\n",
    "\n",
    "    \n",
    "def random_colour_masks(mask):\n",
    "    colours = [[0, 255, 0],[0, 0, 255],[255, 0, 0],[0, 255, 255],[255, 255, 0],[255, 0, 255],[80, 70, 180],[250, 80, 190],[245, 145, 50],[70, 150, 250],[50, 190, 190]]\n",
    "    r = np.zeros_like(mask).astype(np.uint8)\n",
    "    g = np.zeros_like(mask).astype(np.uint8)\n",
    "    b = np.zeros_like(mask).astype(np.uint8)\n",
    "    randomNumber = random.randrange(0,10)\n",
    "    r[mask == 1], g[mask == 1], b[mask == 1] = colours[randomNumber]\n",
    "    coloured_mask = np.stack([r, g, b], axis=2)\n",
    "    return coloured_mask, colours[randomNumber]\n",
    "\n",
    "def mergeImgAndMasks(img, masks):\n",
    "\n",
    "    for i in range(len(masks)):\n",
    "        rgb_mask, rgbValues = random_colour_masks(masks[i])\n",
    "        edge_mask = getThickEdge(masks[i], rgbValues)\n",
    "        \n",
    "        if img.shape != rgb_mask.shape:\n",
    "            return None, None\n",
    "\n",
    "        img = cv2.addWeighted(img, 1, rgb_mask, 0.2, 0)\n",
    "        img = cv2.addWeighted(img, 1, edge_mask, 1, 0)\n",
    "\n",
    "    return img\n",
    "\n",
    "def getAllMasksAndClasses(anns):\n",
    "    masks = []\n",
    "    for i in range(len(anns)):\n",
    "        masks.append(coco.annToMask(anns[i]))\n",
    "\n",
    "    catIds = [ann[\"category_id\"] for ann in anns]\n",
    "    catNames = [categories[categoriesId.index(id)] for id in catIds]\n",
    "\n",
    "    return masks, catNames, catIds\n",
    "\n",
    "\n",
    "def concatMasks(mask1, mask2):\n",
    "    bothNotZero = np.logical_and(mask1, mask2)\n",
    "    mask2[bothNotZero] = 0\n",
    "    return mask1+mask2\n",
    "\n",
    "def getSingleMaskWithLabels(masks, classesIds):\n",
    "    gt_masksWithLabel = []\n",
    "    for gt_id, gt_mask in zip(classesIds, masks):\n",
    "        gt_masksWithLabel.append(gt_mask*gt_id)\n",
    "    mask = functools.reduce(concatMasks, gt_masksWithLabel)\n",
    "    return mask\n",
    "\n",
    "def getVisualization(img_id, returnOriginalMask=False, checkNoisyAnnotation=True, classesToIgnore=[], classesToVisualize=[], checkByName=True):\n",
    "    imgName = coco.loadImgs(img_id)[0]['file_name']\n",
    "    imgPath = os.path.join(coco_dataset_folder, \"done\", imgName)\n",
    "    img = cv2.imread(imgPath)\n",
    "\n",
    "    annIds = coco.getAnnIds(imgIds=img_id, iscrowd=False)\n",
    "    anns = coco.loadAnns(annIds)\n",
    "    masks, classes, classesIds = getAllMasksAndClasses(anns)\n",
    "    mask = getSingleMaskWithLabels(masks, classesIds) # only works with number of classes smaller than 255\n",
    "\n",
    "    # check classes by name or ids\n",
    "    if checkByName:\n",
    "        classesData = classes\n",
    "    else:\n",
    "        classesData = classesIds\n",
    "    \n",
    "    intersectionIgnore = list(set(classesData) & set(classesToIgnore))\n",
    "    if len(intersectionIgnore) > 0: # classes to ignore were found\n",
    "        # print(\"Found class to ignore\")\n",
    "        # print(classesData, classesToIgnore)\n",
    "        return None, None, None\n",
    "    \n",
    "    intersectionVisualize = list(set(classesData) & set(classesToVisualize))\n",
    "    if len(classesToVisualize) > 0 and len(intersectionVisualize) == 0: # classes to visualize were not found \n",
    "        # print(\"Did not find classes to visualize\")\n",
    "        # print(classesData, classesToVisualize)\n",
    "        return None, None, None\n",
    "        \n",
    "    if checkNoisyAnnotation and isNoisyAnnotation(masks): # noisy image was found\n",
    "        return None, None, None\n",
    "\n",
    "    mergedImg = mergeImgAndMasks(img, masks)\n",
    "    if mergedImg is None:\n",
    "        print(f\"Problem merging image and mask: {img_id}\")\n",
    "\n",
    "    imgs = [cv2.imencode('.jpeg', mergedImg)[1].tobytes()]\n",
    "\n",
    "    if returnOriginalMask:\n",
    "        colorMask = cmap(mask, bytes=True)\n",
    "        imgs.append(cv2.imencode('.jpeg', colorMask)[1].tobytes())\n",
    "        \n",
    "    return imgs, classes, classesIds\n",
    "   "
   ]
  },
  {
   "cell_type": "markdown",
   "metadata": {},
   "source": [
    "## Configure iteration"
   ]
  },
  {
   "cell_type": "code",
   "execution_count": 31,
   "metadata": {
    "tags": []
   },
   "outputs": [],
   "source": [
    "# configuration\n",
    "\n",
    "# checkByName = True\n",
    "# classesToIgnore = []\n",
    "# classesToVisualize=[\"Cenoura\", \"Alface\"]\n",
    "\n",
    "checkByName = False\n",
    "classesToIgnore = []\n",
    "classesToVisualize=[]\n",
    "\n",
    "returnOriginalMask=True\n",
    "checkNoisyAnnotation=False\n",
    "\n",
    "# how big are the images?\n",
    "width=300\n",
    "height=300\n",
    "columns=4  # 7 for 150,  4 for 300 \n",
    "\n",
    "# how many samples you want to iterate?\n",
    "init = 0\n",
    "end = 200\n",
    "# end = len(imgIds)"
   ]
  },
  {
   "cell_type": "markdown",
   "metadata": {},
   "source": [
    "## Iterate Data"
   ]
  },
  {
   "cell_type": "code",
   "execution_count": 32,
   "metadata": {
    "tags": []
   },
   "outputs": [
    {
     "name": "stdout",
     "output_type": "stream",
     "text": [
      "Ignored 0 samples\n"
     ]
    },
    {
     "data": {
      "application/vnd.jupyter.widget-view+json": {
       "model_id": "05519a1df8294f89ade1246e3baceebb",
       "version_major": 2,
       "version_minor": 0
      },
      "text/plain": [
       "GridspecLayout(children=(VBox(children=(Button(description='Pick', style=ButtonStyle()), Image(value=b'\\xff\\xd…"
      ]
     },
     "metadata": {},
     "output_type": "display_data"
    }
   ],
   "source": [
    "from IPython.display import display\n",
    "from ipywidgets import widgets, HBox, VBox, GridBox, Layout, GridspecLayout\n",
    "import math\n",
    "\n",
    "pickedSamples = []\n",
    "samplesToIgnore = []\n",
    "\n",
    "def createButton(file):\n",
    "    layout = widgets.Layout()\n",
    "    button = widgets.Button(description='Pick', layout = layout)\n",
    "\n",
    "    def on_button_clicked(event, file=file):\n",
    "        pickedSamples.append(file)\n",
    "        button.description = \"Done\"\n",
    "        button.disabled = True\n",
    "\n",
    "    button.on_click(on_button_clicked)\n",
    "    return button\n",
    "\n",
    "items = []\n",
    "for idx in range(init,end):\n",
    "    img_id = imgIds[idx]\n",
    "    imgName = coco.loadImgs(img_id)[0]['file_name']\n",
    "    imgs, classes, classesIds = getVisualization(img_id, returnOriginalMask=returnOriginalMask, checkNoisyAnnotation=checkNoisyAnnotation,\n",
    "                                     classesToIgnore=classesToIgnore, classesToVisualize=classesToVisualize, checkByName=checkByName)\n",
    "    \n",
    "    if imgs is None: # found image with ids to ignore or noisy annotation\n",
    "        samplesToIgnore.append(imgName)\n",
    "        continue       \n",
    "\n",
    "    images = [widgets.Image(value=img,width=width,height=height) for img in imgs]\n",
    "    button = createButton(imgName)\n",
    "    # numClasses = widgets.Label(value=str(len(classes)))\n",
    "    names = [widgets.Label(value=f\"{className}: {classId}\") for className, classId in zip(classes,classesIds)]\n",
    "\n",
    "    visualization = [button] + images + names\n",
    "    items.append(VBox(visualization))\n",
    "\n",
    "rows = math.ceil(len(items)/columns)\n",
    "grid = GridspecLayout(rows, columns, grid_gap=\"10px\")\n",
    "cont = 0\n",
    "for i in range(rows):\n",
    "    for j in range(columns):\n",
    "        try:\n",
    "            grid[i, j] = items[cont]\n",
    "            cont+=1\n",
    "        except:\n",
    "            continue\n",
    "        \n",
    "print(f\"Ignored {len(samplesToIgnore)} samples\")\n",
    "display(grid)\n"
   ]
  },
  {
   "cell_type": "code",
   "execution_count": null,
   "metadata": {
    "tags": []
   },
   "outputs": [],
   "source": [
    "print(len(pickedSamples))\n",
    "print(pickedSamples)\n",
    "\n",
    "print(len(samplesToIgnore))\n",
    "print(samplesToIgnore)"
   ]
  },
  {
   "cell_type": "markdown",
   "metadata": {},
   "source": [
    "## Save data"
   ]
  },
  {
   "cell_type": "code",
   "execution_count": 37,
   "metadata": {
    "tags": []
   },
   "outputs": [],
   "source": [
    "# save picked images to file\n",
    "\n",
    "filepath = coco_dataset_folder + f\"pickedImages_init={init}_end={end}.txt\"\n",
    "\n",
    "textfile = open(filepath, \"w\")\n",
    "for element in pickedSamples:\n",
    "    textfile.write(element + \"\\n\")\n",
    "textfile.close()\n"
   ]
  },
  {
   "cell_type": "code",
   "execution_count": 44,
   "metadata": {},
   "outputs": [],
   "source": [
    "# save ignored images to file\n",
    "\n",
    "filepath = coco_dataset_folder + f\"ignoredImages_init={init}_end={end}.txt\"\n",
    "\n",
    "textfile = open(filepath, \"w\")\n",
    "for element in samplesToIgnore:\n",
    "    textfile.write(element + \"\\n\")\n",
    "textfile.close()"
   ]
  }
 ],
 "metadata": {
  "accelerator": "GPU",
  "colab": {
   "collapsed_sections": [
    "jIvA4z40qFhw"
   ],
   "machine_shape": "hm",
   "name": "DiabetesLearning-BrazilFoodsTCC.ipynb",
   "provenance": [
    {
     "file_id": "1bH1p0BY4eS1eRxzPcxR5kKY68xQk24MA",
     "timestamp": 1614714470457
    },
    {
     "file_id": "1N9-gz_PVVdYTcFb3kh4_k4KT4vTumIeq",
     "timestamp": 1614017823859
    },
    {
     "file_id": "1Om0pWS0y8WlJsSncq-Y9-Ivg_P12GodJ",
     "timestamp": 1614000799214
    },
    {
     "file_id": "1E6xEZ588DOqfjKaNB8_nW2NQKUl22ban",
     "timestamp": 1614000779578
    },
    {
     "file_id": "155S_bb3viIoL0wAwkIyr1r8XQu4ARwA9",
     "timestamp": 1613492578902
    }
   ]
  },
  "kernelspec": {
   "display_name": "Python 3 (ipykernel)",
   "language": "python",
   "name": "python3"
  },
  "language_info": {
   "codemirror_mode": {
    "name": "ipython",
    "version": 3
   },
   "file_extension": ".py",
   "mimetype": "text/x-python",
   "name": "python",
   "nbconvert_exporter": "python",
   "pygments_lexer": "ipython3",
   "version": "3.8.16"
  },
  "toc-autonumbering": false,
  "vscode": {
   "interpreter": {
    "hash": "f62d14857ad786ef24d29a16570c988d10e2ad1bf43357ed46c9198eb53c9724"
   }
  },
  "widgets": {
   "application/vnd.jupyter.widget-state+json": {
    "01aa36895f2e4896b36a0eecd4e12956": {
     "model_module": "@jupyter-widgets/base",
     "model_module_version": "1.2.0",
     "model_name": "LayoutModel",
     "state": {
      "_model_module": "@jupyter-widgets/base",
      "_model_module_version": "1.2.0",
      "_model_name": "LayoutModel",
      "_view_count": null,
      "_view_module": "@jupyter-widgets/base",
      "_view_module_version": "1.2.0",
      "_view_name": "LayoutView",
      "align_content": null,
      "align_items": null,
      "align_self": null,
      "border": null,
      "bottom": null,
      "display": null,
      "flex": null,
      "flex_flow": null,
      "grid_area": null,
      "grid_auto_columns": null,
      "grid_auto_flow": null,
      "grid_auto_rows": null,
      "grid_column": null,
      "grid_gap": null,
      "grid_row": null,
      "grid_template_areas": null,
      "grid_template_columns": null,
      "grid_template_rows": null,
      "height": null,
      "justify_content": null,
      "justify_items": null,
      "left": null,
      "margin": null,
      "max_height": null,
      "max_width": null,
      "min_height": null,
      "min_width": null,
      "object_fit": null,
      "object_position": null,
      "order": null,
      "overflow": null,
      "overflow_x": null,
      "overflow_y": null,
      "padding": null,
      "right": null,
      "top": null,
      "visibility": null,
      "width": null
     }
    },
    "139a90a3d5b34260b9d6a3ff40f49fa5": {
     "model_module": "@jupyter-widgets/base",
     "model_module_version": "1.2.0",
     "model_name": "LayoutModel",
     "state": {
      "_model_module": "@jupyter-widgets/base",
      "_model_module_version": "1.2.0",
      "_model_name": "LayoutModel",
      "_view_count": null,
      "_view_module": "@jupyter-widgets/base",
      "_view_module_version": "1.2.0",
      "_view_name": "LayoutView",
      "align_content": null,
      "align_items": null,
      "align_self": null,
      "border": null,
      "bottom": null,
      "display": null,
      "flex": null,
      "flex_flow": null,
      "grid_area": null,
      "grid_auto_columns": null,
      "grid_auto_flow": null,
      "grid_auto_rows": null,
      "grid_column": null,
      "grid_gap": null,
      "grid_row": null,
      "grid_template_areas": null,
      "grid_template_columns": null,
      "grid_template_rows": null,
      "height": null,
      "justify_content": null,
      "justify_items": null,
      "left": null,
      "margin": null,
      "max_height": null,
      "max_width": null,
      "min_height": null,
      "min_width": null,
      "object_fit": null,
      "object_position": null,
      "order": null,
      "overflow": null,
      "overflow_x": null,
      "overflow_y": null,
      "padding": null,
      "right": null,
      "top": null,
      "visibility": null,
      "width": null
     }
    },
    "1bdbf6e437484fb6842c563b77bea2f3": {
     "model_module": "@jupyter-widgets/controls",
     "model_module_version": "1.5.0",
     "model_name": "FloatProgressModel",
     "state": {
      "_dom_classes": [],
      "_model_module": "@jupyter-widgets/controls",
      "_model_module_version": "1.5.0",
      "_model_name": "FloatProgressModel",
      "_view_count": null,
      "_view_module": "@jupyter-widgets/controls",
      "_view_module_version": "1.5.0",
      "_view_name": "ProgressView",
      "bar_style": "",
      "description": "",
      "description_tooltip": null,
      "layout": "IPY_MODEL_a6a91bbc5b73464b87e621e2b08b73f6",
      "max": 1,
      "min": 0,
      "orientation": "horizontal",
      "style": "IPY_MODEL_ad74c41e33594c1f8e3cf2394883ac0e",
      "value": 1
     }
    },
    "326de9fa9b274178bb789274f2fd6926": {
     "model_module": "@jupyter-widgets/base",
     "model_module_version": "1.2.0",
     "model_name": "LayoutModel",
     "state": {
      "_model_module": "@jupyter-widgets/base",
      "_model_module_version": "1.2.0",
      "_model_name": "LayoutModel",
      "_view_count": null,
      "_view_module": "@jupyter-widgets/base",
      "_view_module_version": "1.2.0",
      "_view_name": "LayoutView",
      "align_content": null,
      "align_items": null,
      "align_self": null,
      "border": null,
      "bottom": null,
      "display": null,
      "flex": null,
      "flex_flow": null,
      "grid_area": null,
      "grid_auto_columns": null,
      "grid_auto_flow": null,
      "grid_auto_rows": null,
      "grid_column": null,
      "grid_gap": null,
      "grid_row": null,
      "grid_template_areas": null,
      "grid_template_columns": null,
      "grid_template_rows": null,
      "height": null,
      "justify_content": null,
      "justify_items": null,
      "left": null,
      "margin": null,
      "max_height": null,
      "max_width": null,
      "min_height": null,
      "min_width": null,
      "object_fit": null,
      "object_position": null,
      "order": null,
      "overflow": null,
      "overflow_x": null,
      "overflow_y": null,
      "padding": null,
      "right": null,
      "top": null,
      "visibility": null,
      "width": null
     }
    },
    "44d4530a85bd4148849c4bb69334bc9a": {
     "model_module": "@jupyter-widgets/controls",
     "model_module_version": "1.5.0",
     "model_name": "VBoxModel",
     "state": {
      "_dom_classes": [],
      "_model_module": "@jupyter-widgets/controls",
      "_model_module_version": "1.5.0",
      "_model_name": "VBoxModel",
      "_view_count": null,
      "_view_module": "@jupyter-widgets/controls",
      "_view_module_version": "1.5.0",
      "_view_name": "VBoxView",
      "box_style": "",
      "children": [
       "IPY_MODEL_eef5b73f695940fcabdc346763891880",
       "IPY_MODEL_5ff9db00f7c44fccb7966053f5aea093"
      ],
      "layout": "IPY_MODEL_326de9fa9b274178bb789274f2fd6926"
     }
    },
    "5ff9db00f7c44fccb7966053f5aea093": {
     "model_module": "@jupyter-widgets/controls",
     "model_module_version": "1.5.0",
     "model_name": "FloatProgressModel",
     "state": {
      "_dom_classes": [],
      "_model_module": "@jupyter-widgets/controls",
      "_model_module_version": "1.5.0",
      "_model_name": "FloatProgressModel",
      "_view_count": null,
      "_view_module": "@jupyter-widgets/controls",
      "_view_module_version": "1.5.0",
      "_view_name": "ProgressView",
      "bar_style": "",
      "description": "",
      "description_tooltip": null,
      "layout": "IPY_MODEL_d9d2c6c1a5334805a338aacd4dbed486",
      "max": 1,
      "min": 0,
      "orientation": "horizontal",
      "style": "IPY_MODEL_a5b5ed46c9c544dda57828070a195a05",
      "value": 1
     }
    },
    "62f00293f87e4115809e2cbdc56f2b9b": {
     "model_module": "@jupyter-widgets/controls",
     "model_module_version": "1.5.0",
     "model_name": "VBoxModel",
     "state": {
      "_dom_classes": [],
      "_model_module": "@jupyter-widgets/controls",
      "_model_module_version": "1.5.0",
      "_model_name": "VBoxModel",
      "_view_count": null,
      "_view_module": "@jupyter-widgets/controls",
      "_view_module_version": "1.5.0",
      "_view_name": "VBoxView",
      "box_style": "",
      "children": [
       "IPY_MODEL_ec0df62980f343ef8ec6a0daf7baf772",
       "IPY_MODEL_1bdbf6e437484fb6842c563b77bea2f3"
      ],
      "layout": "IPY_MODEL_139a90a3d5b34260b9d6a3ff40f49fa5"
     }
    },
    "751e342d05d34b56a47ef5a34e3ac8a0": {
     "model_module": "@jupyter-widgets/controls",
     "model_module_version": "1.5.0",
     "model_name": "DescriptionStyleModel",
     "state": {
      "_model_module": "@jupyter-widgets/controls",
      "_model_module_version": "1.5.0",
      "_model_name": "DescriptionStyleModel",
      "_view_count": null,
      "_view_module": "@jupyter-widgets/base",
      "_view_module_version": "1.2.0",
      "_view_name": "StyleView",
      "description_width": ""
     }
    },
    "a5b5ed46c9c544dda57828070a195a05": {
     "model_module": "@jupyter-widgets/controls",
     "model_module_version": "1.5.0",
     "model_name": "ProgressStyleModel",
     "state": {
      "_model_module": "@jupyter-widgets/controls",
      "_model_module_version": "1.5.0",
      "_model_name": "ProgressStyleModel",
      "_view_count": null,
      "_view_module": "@jupyter-widgets/base",
      "_view_module_version": "1.2.0",
      "_view_name": "StyleView",
      "bar_color": null,
      "description_width": ""
     }
    },
    "a6a91bbc5b73464b87e621e2b08b73f6": {
     "model_module": "@jupyter-widgets/base",
     "model_module_version": "1.2.0",
     "model_name": "LayoutModel",
     "state": {
      "_model_module": "@jupyter-widgets/base",
      "_model_module_version": "1.2.0",
      "_model_name": "LayoutModel",
      "_view_count": null,
      "_view_module": "@jupyter-widgets/base",
      "_view_module_version": "1.2.0",
      "_view_name": "LayoutView",
      "align_content": null,
      "align_items": null,
      "align_self": null,
      "border": null,
      "bottom": null,
      "display": null,
      "flex": null,
      "flex_flow": null,
      "grid_area": null,
      "grid_auto_columns": null,
      "grid_auto_flow": null,
      "grid_auto_rows": null,
      "grid_column": null,
      "grid_gap": null,
      "grid_row": null,
      "grid_template_areas": null,
      "grid_template_columns": null,
      "grid_template_rows": null,
      "height": null,
      "justify_content": null,
      "justify_items": null,
      "left": null,
      "margin": null,
      "max_height": null,
      "max_width": null,
      "min_height": null,
      "min_width": null,
      "object_fit": null,
      "object_position": null,
      "order": null,
      "overflow": null,
      "overflow_x": null,
      "overflow_y": null,
      "padding": null,
      "right": null,
      "top": null,
      "visibility": null,
      "width": null
     }
    },
    "ad74c41e33594c1f8e3cf2394883ac0e": {
     "model_module": "@jupyter-widgets/controls",
     "model_module_version": "1.5.0",
     "model_name": "ProgressStyleModel",
     "state": {
      "_model_module": "@jupyter-widgets/controls",
      "_model_module_version": "1.5.0",
      "_model_name": "ProgressStyleModel",
      "_view_count": null,
      "_view_module": "@jupyter-widgets/base",
      "_view_module_version": "1.2.0",
      "_view_name": "StyleView",
      "bar_color": null,
      "description_width": ""
     }
    },
    "d9d2c6c1a5334805a338aacd4dbed486": {
     "model_module": "@jupyter-widgets/base",
     "model_module_version": "1.2.0",
     "model_name": "LayoutModel",
     "state": {
      "_model_module": "@jupyter-widgets/base",
      "_model_module_version": "1.2.0",
      "_model_name": "LayoutModel",
      "_view_count": null,
      "_view_module": "@jupyter-widgets/base",
      "_view_module_version": "1.2.0",
      "_view_name": "LayoutView",
      "align_content": null,
      "align_items": null,
      "align_self": null,
      "border": null,
      "bottom": null,
      "display": null,
      "flex": null,
      "flex_flow": null,
      "grid_area": null,
      "grid_auto_columns": null,
      "grid_auto_flow": null,
      "grid_auto_rows": null,
      "grid_column": null,
      "grid_gap": null,
      "grid_row": null,
      "grid_template_areas": null,
      "grid_template_columns": null,
      "grid_template_rows": null,
      "height": null,
      "justify_content": null,
      "justify_items": null,
      "left": null,
      "margin": null,
      "max_height": null,
      "max_width": null,
      "min_height": null,
      "min_width": null,
      "object_fit": null,
      "object_position": null,
      "order": null,
      "overflow": null,
      "overflow_x": null,
      "overflow_y": null,
      "padding": null,
      "right": null,
      "top": null,
      "visibility": null,
      "width": null
     }
    },
    "ec0df62980f343ef8ec6a0daf7baf772": {
     "model_module": "@jupyter-widgets/controls",
     "model_module_version": "1.5.0",
     "model_name": "LabelModel",
     "state": {
      "_dom_classes": [],
      "_model_module": "@jupyter-widgets/controls",
      "_model_module_version": "1.5.0",
      "_model_name": "LabelModel",
      "_view_count": null,
      "_view_module": "@jupyter-widgets/controls",
      "_view_module_version": "1.5.0",
      "_view_name": "LabelView",
      "description": "",
      "description_tooltip": null,
      "layout": "IPY_MODEL_f7ad4459911741cba7dfe5db1f7a736a",
      "placeholder": "​",
      "style": "IPY_MODEL_fbff85d8c3aa4dc2b20ef0d6d1f71e9a",
      "value": " 1048.96MB of 1048.96MB uploaded (0.00MB deduped)\r"
     }
    },
    "eef5b73f695940fcabdc346763891880": {
     "model_module": "@jupyter-widgets/controls",
     "model_module_version": "1.5.0",
     "model_name": "LabelModel",
     "state": {
      "_dom_classes": [],
      "_model_module": "@jupyter-widgets/controls",
      "_model_module_version": "1.5.0",
      "_model_name": "LabelModel",
      "_view_count": null,
      "_view_module": "@jupyter-widgets/controls",
      "_view_module_version": "1.5.0",
      "_view_name": "LabelView",
      "description": "",
      "description_tooltip": null,
      "layout": "IPY_MODEL_01aa36895f2e4896b36a0eecd4e12956",
      "placeholder": "​",
      "style": "IPY_MODEL_751e342d05d34b56a47ef5a34e3ac8a0",
      "value": " 1645.99MB of 1645.99MB uploaded (0.00MB deduped)\r"
     }
    },
    "f7ad4459911741cba7dfe5db1f7a736a": {
     "model_module": "@jupyter-widgets/base",
     "model_module_version": "1.2.0",
     "model_name": "LayoutModel",
     "state": {
      "_model_module": "@jupyter-widgets/base",
      "_model_module_version": "1.2.0",
      "_model_name": "LayoutModel",
      "_view_count": null,
      "_view_module": "@jupyter-widgets/base",
      "_view_module_version": "1.2.0",
      "_view_name": "LayoutView",
      "align_content": null,
      "align_items": null,
      "align_self": null,
      "border": null,
      "bottom": null,
      "display": null,
      "flex": null,
      "flex_flow": null,
      "grid_area": null,
      "grid_auto_columns": null,
      "grid_auto_flow": null,
      "grid_auto_rows": null,
      "grid_column": null,
      "grid_gap": null,
      "grid_row": null,
      "grid_template_areas": null,
      "grid_template_columns": null,
      "grid_template_rows": null,
      "height": null,
      "justify_content": null,
      "justify_items": null,
      "left": null,
      "margin": null,
      "max_height": null,
      "max_width": null,
      "min_height": null,
      "min_width": null,
      "object_fit": null,
      "object_position": null,
      "order": null,
      "overflow": null,
      "overflow_x": null,
      "overflow_y": null,
      "padding": null,
      "right": null,
      "top": null,
      "visibility": null,
      "width": null
     }
    },
    "fbff85d8c3aa4dc2b20ef0d6d1f71e9a": {
     "model_module": "@jupyter-widgets/controls",
     "model_module_version": "1.5.0",
     "model_name": "DescriptionStyleModel",
     "state": {
      "_model_module": "@jupyter-widgets/controls",
      "_model_module_version": "1.5.0",
      "_model_name": "DescriptionStyleModel",
      "_view_count": null,
      "_view_module": "@jupyter-widgets/base",
      "_view_module_version": "1.2.0",
      "_view_name": "StyleView",
      "description_width": ""
     }
    }
   }
  }
 },
 "nbformat": 4,
 "nbformat_minor": 4
}
