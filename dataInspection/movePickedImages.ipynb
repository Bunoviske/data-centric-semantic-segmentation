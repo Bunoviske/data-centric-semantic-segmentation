{
 "cells": [
  {
   "cell_type": "code",
   "execution_count": 17,
   "metadata": {},
   "outputs": [],
   "source": [
    "# read all picked images from the text files\n",
    "\n",
    "path = '/mnt/c/Users/bruno/Documents/diabetesLearning/foodDatabase/MyFood/'\n",
    "\n",
    "filepaths = [ path + f\"pickedImages_init=0_end=10.txt\",\n",
    "            # path + f\"pickedImages_init=0_end=10.txt\",\n",
    "            # path + f\"pickedImages_init=0_end=10.txt\",\n",
    "            # path + f\"pickedImages_init=0_end=10.txt\"\n",
    "            ]\n",
    "\n",
    "imageFiles = []\n",
    "for textfile in filepaths:\n",
    "    fp = open(textfile, \"r\")\n",
    "    files = fp.readlines()\n",
    "    imageFiles += [file.strip() for file in files]\n",
    "    fp.close()\n"
   ]
  },
  {
   "cell_type": "code",
   "execution_count": 19,
   "metadata": {},
   "outputs": [],
   "source": [
    "import os\n",
    "\n",
    "dstFolder = path + f\"picked/\"\n",
    "for imageFile in imageFiles:\n",
    "    os.rename(imageFile, dstFolder + os.path.basename(imageFile)) # move original file\n"
   ]
  }
 ],
 "metadata": {
  "interpreter": {
   "hash": "f62d14857ad786ef24d29a16570c988d10e2ad1bf43357ed46c9198eb53c9724"
  },
  "kernelspec": {
   "display_name": "Python 3.8.10 ('base')",
   "language": "python",
   "name": "python3"
  },
  "language_info": {
   "codemirror_mode": {
    "name": "ipython",
    "version": 3
   },
   "file_extension": ".py",
   "mimetype": "text/x-python",
   "name": "python",
   "nbconvert_exporter": "python",
   "pygments_lexer": "ipython3",
   "version": "3.8.10"
  },
  "orig_nbformat": 4
 },
 "nbformat": 4,
 "nbformat_minor": 2
}
