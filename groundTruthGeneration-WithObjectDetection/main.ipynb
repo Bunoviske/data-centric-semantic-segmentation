{
 "cells": [
  {
   "cell_type": "code",
   "execution_count": null,
   "metadata": {},
   "outputs": [],
   "source": [
    "%matplotlib --list"
   ]
  },
  {
   "cell_type": "code",
   "execution_count": null,
   "metadata": {},
   "outputs": [],
   "source": [
    "# for data labeling\n",
    "\n",
    "# %matplotlib tk \n",
    "# def onclick(event):\n",
    "#     x, y = int(event.xdata), int(event.ydata)\n",
    "#     print(x , y)\n",
    "# cid = fig.canvas.mpl_connect('button_press_event', onclick)\n",
    "\n",
    "# text = widgets.Text(\n",
    "#        value='',\n",
    "#        description='Class Id', )\n",
    "# text.value\n",
    "\n",
    "# menu = widgets.Dropdown(\n",
    "#        options=['red', 'blue', 'green'] * 10,\n",
    "#        description='Classes')\n",
    "# menu.value"
   ]
  }
 ],
 "metadata": {
  "language_info": {
   "name": "python"
  },
  "orig_nbformat": 4
 },
 "nbformat": 4,
 "nbformat_minor": 2
}
